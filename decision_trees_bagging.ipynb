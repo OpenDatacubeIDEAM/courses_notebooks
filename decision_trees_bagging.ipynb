{
 "cells": [
  {
   "cell_type": "code",
   "execution_count": null,
   "metadata": {
    "collapsed": true
   },
   "outputs": [],
   "source": [
    "import numpy as np\n",
    "from __future__ import division\n",
    "%matplotlib inline\n",
    "import matplotlib.pyplot as plt\n",
    "from sklearn.datasets import make_moons, make_circles, make_classification\n",
    "from sklearn.cross_validation import train_test_split\n",
    "from sklearn.ensemble import BaggingClassifier, GradientBoostingClassifier, RandomForestClassifier\n",
    "from sklearn.tree import DecisionTreeClassifier\n",
    "from sklearn.metrics import roc_curve, classification_report"
   ]
  },
  {
   "cell_type": "markdown",
   "metadata": {},
   "source": [
    "## Data generation"
   ]
  },
  {
   "cell_type": "code",
   "execution_count": null,
   "metadata": {
    "collapsed": true
   },
   "outputs": [],
   "source": [
    "N = 2000\n",
    "noise_std = 0.3\n",
    "X, Y = make_moons(n_samples=N, noise=noise_std)\n",
    "#X, Y = make_classification(n_samples=N, n_features=2, n_redundant=0, n_informative=2, n_clusters_per_class=2)\n",
    "fig = plt.figure(figsize=(6, 4))\n",
    "ax = fig.add_subplot(1, 1, 1)\n",
    "ax.scatter(X[:, 0], X[:, 1], c=Y, linewidth=0, alpha=0.5, s=20)\n",
    "plt.grid()\n",
    "\n",
    "X_train, X_test, Y_train, Y_test = train_test_split(X, Y, train_size=0.5)"
   ]
  },
  {
   "cell_type": "markdown",
   "metadata": {},
   "source": [
    "## Bagging Classifier"
   ]
  },
  {
   "cell_type": "code",
   "execution_count": null,
   "metadata": {
    "collapsed": true
   },
   "outputs": [],
   "source": [
    "model = BaggingClassifier(base_estimator=DecisionTreeClassifier(max_depth=10),\n",
    "                          n_jobs=2, max_features=1.0, n_estimators=100, bootstrap=True, random_state=0)\n",
    "\n",
    "model.fit(X_train, Y_train)\n",
    "x_min, x_max = X[:, 0].min() - 0.5, X[:, 0].max() + 0.5\n",
    "y_min, y_max = X[:, 1].min() - 0.5, X[:, 1].max() + 0.5\n",
    "xx, yy = np.meshgrid(np.arange(x_min, x_max, 0.05), np.arange(y_min, y_max, 0.05))\n",
    "Z = model.predict(np.c_[xx.ravel(), yy.ravel()])\n",
    "Z = Z.reshape(xx.shape)\n",
    "print(classification_report(Y_test, model.predict(X_test), digits=3))\n",
    "\n",
    "fig = plt.figure(figsize=(14, 5))\n",
    "ax = fig.add_subplot(1, 2, 1)\n",
    "ax.contourf(xx, yy, Z, cmap=plt.cm.jet, alpha=0.5)\n",
    "ax.scatter(X[Y==0, 0], X[Y==0, 1], color='k', marker='o', alpha=0.5)\n",
    "ax.scatter(X[Y==1, 0], X[Y==1, 1], color='k', marker='x', alpha=0.5)\n",
    "ax = fig.add_subplot(1, 2, 2)\n",
    "fpr, tpr, th = roc_curve(Y_train, model.predict_proba(X_train)[:, 1])\n",
    "ax.plot(fpr, tpr, label='Train', linewidth=4)\n",
    "fpr, tpr, th = roc_curve(Y_test, model.predict_proba(X_test)[:, 1])\n",
    "ax.plot(fpr, tpr, label='Test', linewidth=4)\n",
    "plt.grid()\n",
    "plt.legend(loc=4)\n",
    "plt.xlabel('FPR')\n",
    "plt.ylabel('TPR')\n",
    "ax.set_ylim([0.0, 1.05])"
   ]
  },
  {
   "cell_type": "markdown",
   "metadata": {},
   "source": [
    "## Random Forest"
   ]
  },
  {
   "cell_type": "code",
   "execution_count": null,
   "metadata": {
    "collapsed": true
   },
   "outputs": [],
   "source": [
    "model = RandomForestClassifier(max_depth=10, criterion='gini',\n",
    "                               n_jobs=2, n_estimators=100, max_features=None, random_state=0)\n",
    "\n",
    "model.fit(X_train, Y_train)\n",
    "x_min, x_max = X[:, 0].min() - 0.5, X[:, 0].max() + 0.5\n",
    "y_min, y_max = X[:, 1].min() - 0.5, X[:, 1].max() + 0.5\n",
    "xx, yy = np.meshgrid(np.arange(x_min, x_max, 0.05), np.arange(y_min, y_max, 0.05))\n",
    "Z = model.predict(np.c_[xx.ravel(), yy.ravel()])\n",
    "Z = Z.reshape(xx.shape)\n",
    "print(classification_report(Y_test, model.predict(X_test), digits=3))\n",
    "\n",
    "\n",
    "fig = plt.figure(figsize=(14, 5))\n",
    "ax = fig.add_subplot(1, 2, 1)\n",
    "ax.contourf(xx, yy, Z, cmap=plt.cm.jet, alpha=0.5)\n",
    "ax.scatter(X[Y==0, 0], X[Y==0, 1], color='k', marker='o', alpha=0.5)\n",
    "ax.scatter(X[Y==1, 0], X[Y==1, 1], color='k', marker='x', alpha=0.5)\n",
    "ax = fig.add_subplot(1, 2, 2)\n",
    "fpr, tpr, th = roc_curve(Y_train, model.predict_proba(X_train)[:, 1])\n",
    "ax.plot(fpr, tpr, label='Train', linewidth=4)\n",
    "fpr, tpr, th = roc_curve(Y_test, model.predict_proba(X_test)[:, 1])\n",
    "ax.plot(fpr, tpr, label='Test', linewidth=4)\n",
    "plt.grid()\n",
    "plt.legend(loc=4)\n",
    "plt.xlabel('FPR')\n",
    "plt.ylabel('TPR')\n",
    "ax.set_ylim([0.0, 1.05])"
   ]
  },
  {
   "cell_type": "code",
   "execution_count": null,
   "metadata": {
    "collapsed": true
   },
   "outputs": [],
   "source": []
  }
 ],
 "metadata": {
  "kernelspec": {
   "display_name": "Python 3",
   "language": "python",
   "name": "python3"
  },
  "language_info": {
   "codemirror_mode": {
    "name": "ipython",
    "version": 3
   },
   "file_extension": ".py",
   "mimetype": "text/x-python",
   "name": "python",
   "nbconvert_exporter": "python",
   "pygments_lexer": "ipython3",
   "version": "3.6.2"
  }
 },
 "nbformat": 4,
 "nbformat_minor": 1
}
